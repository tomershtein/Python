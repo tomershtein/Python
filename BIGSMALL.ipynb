{
  "cells": [
    {
      "metadata": {
        "collapsed": true
      },
      "cell_type": "markdown",
      "source": "### BIGSMALL Function\n\n**Input:** string object stored as 's'\n#### Function:\nUsing <code>for loop </code> examminning the given string and checks for lower or upper cases. Every loop adding to the relavent count- upper or lower case. \nWhen encountering a number\\symbol- pass.\n\n**Output:** print result"
    },
    {
      "metadata": {
        "trusted": true
      },
      "cell_type": "code",
      "source": "def BIGSMALL(s):\n    Upper_Case =0\n    Lower_Case = 0\n    for char in s:\n        if char.isupper():\n            Upper_Case += 1\n        elif char.islower():\n            Lower_Case += 1\n        else:\n            pass\n        \n    print (\"Original String : \", s)\n    print (\"No. of Upper case characters : \", Upper_Case)\n    print (\"No. of Lower case Characters : \", Lower_Case)\n\nBIGSMALL('Big Brown Fox jumping Around')",
      "execution_count": null,
      "outputs": []
    }
  ],
  "metadata": {
    "kernelspec": {
      "name": "python36",
      "display_name": "Python 3.6",
      "language": "python"
    },
    "language_info": {
      "mimetype": "text/x-python",
      "nbconvert_exporter": "python",
      "name": "python",
      "pygments_lexer": "ipython3",
      "version": "3.6.6",
      "file_extension": ".py",
      "codemirror_mode": {
        "version": 3,
        "name": "ipython"
      }
    }
  },
  "nbformat": 4,
  "nbformat_minor": 2
}