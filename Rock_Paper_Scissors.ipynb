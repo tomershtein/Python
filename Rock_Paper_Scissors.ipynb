{
  "cells": [
    {
      "metadata": {
        "collapsed": true
      },
      "cell_type": "markdown",
      "source": "### Rock Paper Scissors Game\n#### Rock, Paper, Scissors\nUsing <code>while loop</code> the program gets random selection for player 1 and 2.\nWith <code>if statement</code> it's decides which player wins according to the game's rules."
    },
    {
      "metadata": {
        "trusted": true
      },
      "cell_type": "code",
      "source": "import random\noptions = ['rock','paper','scissors']\nwhile True:\n    pl_1 = random.choice(options)\n    pl_2 = random.choice(options)\n    print('Player 1 is ' + pl_1)\n    print('Player 2 is ' + pl_2)\n    if pl_1 == pl_2:\n        print('They draw! therefore we try again.')\n        continue ## need to check what to do with infinite prints\n    elif pl_1 == 'rock' and pl_2 == 'paper':\n        print ('Player 2 Won!')\n        break \n    elif pl_1 == 'rock' and pl_2 == 'scissors':\n        print ('Player 1 Won!')\n        break\n    elif pl_1 == 'scissors' and pl_2 == 'paper':\n        print ('Player 1 Won!')\n        break\n    elif pl_1 == 'scissors' and pl_2 == 'rock':\n        print ('Player 2 Won!')\n        break\n    elif pl_1 == 'paper' and pl_2 == 'rock':\n        print ('Player 1 Won!')\n        break\n    elif pl_1 == 'paper' and pl_2 == 'scissors':\n        print ('Player 2 Won!')\n        break",
      "execution_count": null,
      "outputs": []
    }
  ],
  "metadata": {
    "kernelspec": {
      "name": "python36",
      "display_name": "Python 3.6",
      "language": "python"
    },
    "language_info": {
      "mimetype": "text/x-python",
      "nbconvert_exporter": "python",
      "name": "python",
      "pygments_lexer": "ipython3",
      "version": "3.6.6",
      "file_extension": ".py",
      "codemirror_mode": {
        "version": 3,
        "name": "ipython"
      }
    }
  },
  "nbformat": 4,
  "nbformat_minor": 2
}