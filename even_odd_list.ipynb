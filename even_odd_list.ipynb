{
  "cells": [
    {
      "metadata": {
        "collapsed": true
      },
      "cell_type": "markdown",
      "source": "### Even Odd List Function\n\n#### Input: \nNumber stored in variable <code>num1</code>.\n    \n#### Function:\nThe function does the next steps:\n   1. Creates two empty lists- each for ever/odd number.\n   2. Creates a list from 0 to num1.\n   3. Using for loop sorting each number in the list to its correct list.\n   4. Print everything.\n    \n#### Output: \nPrints all the desired lists of numbers including the original."
    },
    {
      "metadata": {
        "trusted": true
      },
      "cell_type": "code",
      "source": "def eolist(num1):\n    listofnums = list(range(0, num1+1))\n    ls_1 = [] ## list of even numbers\n    ls_2 = [] ## list of odd numbers\n    for value in listofnums:\n        if value%2==0:\n            ls_1.append(value)\n            \n        else:\n            ls_2.append(value)\n    print(listofnums)           \n    print(ls_1)       \n    print(ls_2) \n    \neolist(10) ## test the function",
      "execution_count": null,
      "outputs": []
    }
  ],
  "metadata": {
    "kernelspec": {
      "name": "python36",
      "display_name": "Python 3.6",
      "language": "python"
    },
    "language_info": {
      "mimetype": "text/x-python",
      "nbconvert_exporter": "python",
      "name": "python",
      "pygments_lexer": "ipython3",
      "version": "3.6.6",
      "file_extension": ".py",
      "codemirror_mode": {
        "version": 3,
        "name": "ipython"
      }
    }
  },
  "nbformat": 4,
  "nbformat_minor": 2
}